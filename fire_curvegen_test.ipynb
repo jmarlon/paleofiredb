{
  "nbformat": 4,
  "nbformat_minor": 0,
  "metadata": {
    "colab": {
      "provenance": [],
      "authorship_tag": "ABX9TyNMU+VJrBaGe4Ppl6zbh48H",
      "include_colab_link": true
    },
    "kernelspec": {
      "name": "ir",
      "display_name": "R"
    },
    "language_info": {
      "name": "R"
    }
  },
  "cells": [
    {
      "cell_type": "markdown",
      "metadata": {
        "id": "view-in-github",
        "colab_type": "text"
      },
      "source": [
        "<a href=\"https://colab.research.google.com/github/jmarlon/paleofiredb/blob/main/fire_curvegen_test.ipynb\" target=\"_parent\"><img src=\"https://colab.research.google.com/assets/colab-badge.svg\" alt=\"Open In Colab\"/></a>"
      ]
    },
    {
      "cell_type": "code",
      "source": [
        "# Install the bigrquery package\n",
        "install.packages(\"bigrquery\")\n",
        "# Load the bigrquery package\n",
        "library(bigrquery)"
      ],
      "metadata": {
        "colab": {
          "base_uri": "https://localhost:8080/"
        },
        "id": "CCWAmrjvQoFJ",
        "outputId": "b59ccb99-19d4-4f6c-c38d-e63353fd6cfa"
      },
      "execution_count": 8,
      "outputs": [
        {
          "output_type": "stream",
          "name": "stderr",
          "text": [
            "Installing package into ‘/usr/local/lib/R/site-library’\n",
            "(as ‘lib’ is unspecified)\n",
            "\n"
          ]
        }
      ]
    },
    {
      "cell_type": "code",
      "source": [
        "# Load the DBI package (this package is what was used in original RPD scripts)\n",
        "library(DBI)"
      ],
      "metadata": {
        "id": "e9jpYK2UFPvr"
      },
      "execution_count": 15,
      "outputs": []
    },
    {
      "cell_type": "code",
      "source": [
        "# Connect to the rpd database through google bigquery\n",
        "con <- dbConnect(\n",
        "  bigrquery::bigquery(),\n",
        "  project = \"fire-data-research\",\n",
        "  dataset = \"rpd\"\n",
        ")"
      ],
      "metadata": {
        "id": "IZdvVRNlFd41"
      },
      "execution_count": 16,
      "outputs": []
    },
    {
      "cell_type": "code",
      "source": [
        "# dbListTables(con)\n",
        "\n",
        "sql <- \"SELECT * FROM fire-data-research.rpd.sample\"\n",
        "dbGetQuery(con, sql, n = 10)\n",
        "\n",
        "# TODO: generate chronplot for a sample\n"
      ],
      "metadata": {
        "colab": {
          "base_uri": "https://localhost:8080/",
          "height": 411
        },
        "id": "-xXit5hPGEln",
        "outputId": "b6c6435e-a11a-497b-9f42-fb8d37692219"
      },
      "execution_count": 21,
      "outputs": [
        {
          "output_type": "display_data",
          "data": {
            "text/html": [
              "<table class=\"dataframe\">\n",
              "<caption>A tibble: 10 × 7</caption>\n",
              "<thead>\n",
              "\t<tr><th scope=col>ID_ENTITY</th><th scope=col>ID_SAMPLE</th><th scope=col>avg_depth</th><th scope=col>sample_thickness</th><th scope=col>charcoal_measurement</th><th scope=col>analytical_sample_size</th><th scope=col>analytical_sample_size_unit</th></tr>\n",
              "\t<tr><th scope=col>&lt;int&gt;</th><th scope=col>&lt;int&gt;</th><th scope=col>&lt;dbl&gt;</th><th scope=col>&lt;chr&gt;</th><th scope=col>&lt;dbl&gt;</th><th scope=col>&lt;dbl&gt;</th><th scope=col>&lt;chr&gt;</th></tr>\n",
              "</thead>\n",
              "<tbody>\n",
              "\t<tr><td>1</td><td>1292</td><td>6.735</td><td>0.01</td><td>2</td><td>5</td><td>cm3</td></tr>\n",
              "\t<tr><td>1</td><td>1306</td><td>6.805</td><td>0.01</td><td>2</td><td>5</td><td>cm3</td></tr>\n",
              "\t<tr><td>1</td><td>1330</td><td>6.925</td><td>0.01</td><td>2</td><td>5</td><td>cm3</td></tr>\n",
              "\t<tr><td>1</td><td>1180</td><td>6.145</td><td>0.01</td><td>3</td><td>5</td><td>cm3</td></tr>\n",
              "\t<tr><td>1</td><td>1272</td><td>6.635</td><td>0.01</td><td>3</td><td>5</td><td>cm3</td></tr>\n",
              "\t<tr><td>1</td><td>1298</td><td>6.765</td><td>0.01</td><td>3</td><td>5</td><td>cm3</td></tr>\n",
              "\t<tr><td>1</td><td>1334</td><td>6.945</td><td>0.01</td><td>3</td><td>5</td><td>cm3</td></tr>\n",
              "\t<tr><td>1</td><td>1014</td><td>5.205</td><td>0.01</td><td>4</td><td>5</td><td>cm3</td></tr>\n",
              "\t<tr><td>1</td><td>1066</td><td>5.465</td><td>0.01</td><td>4</td><td>5</td><td>cm3</td></tr>\n",
              "\t<tr><td>1</td><td>1288</td><td>6.715</td><td>0.01</td><td>4</td><td>5</td><td>cm3</td></tr>\n",
              "</tbody>\n",
              "</table>\n"
            ],
            "text/markdown": "\nA tibble: 10 × 7\n\n| ID_ENTITY &lt;int&gt; | ID_SAMPLE &lt;int&gt; | avg_depth &lt;dbl&gt; | sample_thickness &lt;chr&gt; | charcoal_measurement &lt;dbl&gt; | analytical_sample_size &lt;dbl&gt; | analytical_sample_size_unit &lt;chr&gt; |\n|---|---|---|---|---|---|---|\n| 1 | 1292 | 6.735 | 0.01 | 2 | 5 | cm3 |\n| 1 | 1306 | 6.805 | 0.01 | 2 | 5 | cm3 |\n| 1 | 1330 | 6.925 | 0.01 | 2 | 5 | cm3 |\n| 1 | 1180 | 6.145 | 0.01 | 3 | 5 | cm3 |\n| 1 | 1272 | 6.635 | 0.01 | 3 | 5 | cm3 |\n| 1 | 1298 | 6.765 | 0.01 | 3 | 5 | cm3 |\n| 1 | 1334 | 6.945 | 0.01 | 3 | 5 | cm3 |\n| 1 | 1014 | 5.205 | 0.01 | 4 | 5 | cm3 |\n| 1 | 1066 | 5.465 | 0.01 | 4 | 5 | cm3 |\n| 1 | 1288 | 6.715 | 0.01 | 4 | 5 | cm3 |\n\n",
            "text/latex": "A tibble: 10 × 7\n\\begin{tabular}{lllllll}\n ID\\_ENTITY & ID\\_SAMPLE & avg\\_depth & sample\\_thickness & charcoal\\_measurement & analytical\\_sample\\_size & analytical\\_sample\\_size\\_unit\\\\\n <int> & <int> & <dbl> & <chr> & <dbl> & <dbl> & <chr>\\\\\n\\hline\n\t 1 & 1292 & 6.735 & 0.01 & 2 & 5 & cm3\\\\\n\t 1 & 1306 & 6.805 & 0.01 & 2 & 5 & cm3\\\\\n\t 1 & 1330 & 6.925 & 0.01 & 2 & 5 & cm3\\\\\n\t 1 & 1180 & 6.145 & 0.01 & 3 & 5 & cm3\\\\\n\t 1 & 1272 & 6.635 & 0.01 & 3 & 5 & cm3\\\\\n\t 1 & 1298 & 6.765 & 0.01 & 3 & 5 & cm3\\\\\n\t 1 & 1334 & 6.945 & 0.01 & 3 & 5 & cm3\\\\\n\t 1 & 1014 & 5.205 & 0.01 & 4 & 5 & cm3\\\\\n\t 1 & 1066 & 5.465 & 0.01 & 4 & 5 & cm3\\\\\n\t 1 & 1288 & 6.715 & 0.01 & 4 & 5 & cm3\\\\\n\\end{tabular}\n",
            "text/plain": [
              "   ID_ENTITY ID_SAMPLE avg_depth sample_thickness charcoal_measurement\n",
              "1  1         1292      6.735     0.01             2                   \n",
              "2  1         1306      6.805     0.01             2                   \n",
              "3  1         1330      6.925     0.01             2                   \n",
              "4  1         1180      6.145     0.01             3                   \n",
              "5  1         1272      6.635     0.01             3                   \n",
              "6  1         1298      6.765     0.01             3                   \n",
              "7  1         1334      6.945     0.01             3                   \n",
              "8  1         1014      5.205     0.01             4                   \n",
              "9  1         1066      5.465     0.01             4                   \n",
              "10 1         1288      6.715     0.01             4                   \n",
              "   analytical_sample_size analytical_sample_size_unit\n",
              "1  5                      cm3                        \n",
              "2  5                      cm3                        \n",
              "3  5                      cm3                        \n",
              "4  5                      cm3                        \n",
              "5  5                      cm3                        \n",
              "6  5                      cm3                        \n",
              "7  5                      cm3                        \n",
              "8  5                      cm3                        \n",
              "9  5                      cm3                        \n",
              "10 5                      cm3                        "
            ]
          },
          "metadata": {}
        }
      ]
    }
  ]
}